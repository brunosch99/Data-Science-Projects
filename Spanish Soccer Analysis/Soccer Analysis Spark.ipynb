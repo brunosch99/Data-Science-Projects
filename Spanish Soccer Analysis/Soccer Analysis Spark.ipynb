{
 "cells": [
  {
   "cell_type": "code",
   "execution_count": 55,
   "metadata": {},
   "outputs": [],
   "source": [
    "from pyspark import SparkContext, SQLContext\n",
    "from pyspark.sql.types import *\n",
    "from pyspark.sql.functions import col, udf, lower, round, when\n",
    "import pandas as pd"
   ]
  },
  {
   "cell_type": "code",
   "execution_count": 2,
   "metadata": {},
   "outputs": [],
   "source": [
    "sc = SparkContext(\"local\", \"First App\")"
   ]
  },
  {
   "cell_type": "code",
   "execution_count": 3,
   "metadata": {},
   "outputs": [],
   "source": [
    "sqlCtx = SQLContext(sc)"
   ]
  },
  {
   "cell_type": "code",
   "execution_count": 6,
   "metadata": {},
   "outputs": [],
   "source": [
    "df = sqlCtx.read.csv('FMEL_Dataset.csv', inferSchema=True, header=True)"
   ]
  },
  {
   "cell_type": "code",
   "execution_count": 14,
   "metadata": {},
   "outputs": [
    {
     "data": {
      "text/html": [
       "<div>\n",
       "<style scoped>\n",
       "    .dataframe tbody tr th:only-of-type {\n",
       "        vertical-align: middle;\n",
       "    }\n",
       "\n",
       "    .dataframe tbody tr th {\n",
       "        vertical-align: top;\n",
       "    }\n",
       "\n",
       "    .dataframe thead th {\n",
       "        text-align: right;\n",
       "    }\n",
       "</style>\n",
       "<table border=\"1\" class=\"dataframe\">\n",
       "  <thead>\n",
       "    <tr style=\"text-align: right;\">\n",
       "      <th></th>\n",
       "      <th>summary</th>\n",
       "      <th>id</th>\n",
       "      <th>season</th>\n",
       "      <th>division</th>\n",
       "      <th>round</th>\n",
       "      <th>localTeam</th>\n",
       "      <th>visitorTeam</th>\n",
       "      <th>localGoals</th>\n",
       "      <th>visitorGoals</th>\n",
       "      <th>date</th>\n",
       "      <th>timestamp</th>\n",
       "    </tr>\n",
       "  </thead>\n",
       "  <tbody>\n",
       "    <tr>\n",
       "      <td>0</td>\n",
       "      <td>count</td>\n",
       "      <td>37147</td>\n",
       "      <td>37147</td>\n",
       "      <td>37147</td>\n",
       "      <td>37147</td>\n",
       "      <td>37147</td>\n",
       "      <td>37147</td>\n",
       "      <td>37147</td>\n",
       "      <td>37147</td>\n",
       "      <td>37147</td>\n",
       "      <td>37147</td>\n",
       "    </tr>\n",
       "    <tr>\n",
       "      <td>1</td>\n",
       "      <td>mean</td>\n",
       "      <td>18574.0</td>\n",
       "      <td>None</td>\n",
       "      <td>1.5378092443535145</td>\n",
       "      <td>19.86289606159313</td>\n",
       "      <td>None</td>\n",
       "      <td>None</td>\n",
       "      <td>1.51538482246211</td>\n",
       "      <td>0.9369531859907934</td>\n",
       "      <td>None</td>\n",
       "      <td>8.116889063665975E8</td>\n",
       "    </tr>\n",
       "    <tr>\n",
       "      <td>2</td>\n",
       "      <td>stddev</td>\n",
       "      <td>10723.559561389431</td>\n",
       "      <td>None</td>\n",
       "      <td>0.4985751224808899</td>\n",
       "      <td>11.282774223366431</td>\n",
       "      <td>None</td>\n",
       "      <td>None</td>\n",
       "      <td>1.2627421681320699</td>\n",
       "      <td>1.0102626403714559</td>\n",
       "      <td>None</td>\n",
       "      <td>4.322134373365736E8</td>\n",
       "    </tr>\n",
       "    <tr>\n",
       "      <td>3</td>\n",
       "      <td>min</td>\n",
       "      <td>1</td>\n",
       "      <td>1970-71</td>\n",
       "      <td>1</td>\n",
       "      <td>1</td>\n",
       "      <td>AD Almeria</td>\n",
       "      <td>AD Almeria</td>\n",
       "      <td>0</td>\n",
       "      <td>0</td>\n",
       "      <td>01/01/1972</td>\n",
       "      <td>21333600</td>\n",
       "    </tr>\n",
       "    <tr>\n",
       "      <td>4</td>\n",
       "      <td>max</td>\n",
       "      <td>37147</td>\n",
       "      <td>2017-18</td>\n",
       "      <td>2</td>\n",
       "      <td>44</td>\n",
       "      <td>Zaragoza</td>\n",
       "      <td>Zaragoza</td>\n",
       "      <td>10</td>\n",
       "      <td>8</td>\n",
       "      <td>31/12/2015</td>\n",
       "      <td>1527890400</td>\n",
       "    </tr>\n",
       "  </tbody>\n",
       "</table>\n",
       "</div>"
      ],
      "text/plain": [
       "  summary                  id   season            division  \\\n",
       "0   count               37147    37147               37147   \n",
       "1    mean             18574.0     None  1.5378092443535145   \n",
       "2  stddev  10723.559561389431     None  0.4985751224808899   \n",
       "3     min                   1  1970-71                   1   \n",
       "4     max               37147  2017-18                   2   \n",
       "\n",
       "                round   localTeam visitorTeam          localGoals  \\\n",
       "0               37147       37147       37147               37147   \n",
       "1   19.86289606159313        None        None    1.51538482246211   \n",
       "2  11.282774223366431        None        None  1.2627421681320699   \n",
       "3                   1  AD Almeria  AD Almeria                   0   \n",
       "4                  44    Zaragoza    Zaragoza                  10   \n",
       "\n",
       "         visitorGoals        date            timestamp  \n",
       "0               37147       37147                37147  \n",
       "1  0.9369531859907934        None  8.116889063665975E8  \n",
       "2  1.0102626403714559        None  4.322134373365736E8  \n",
       "3                   0  01/01/1972             21333600  \n",
       "4                   8  31/12/2015           1527890400  "
      ]
     },
     "execution_count": 14,
     "metadata": {},
     "output_type": "execute_result"
    }
   ],
   "source": [
    "df.describe().toPandas()"
   ]
  },
  {
   "cell_type": "code",
   "execution_count": 28,
   "metadata": {},
   "outputs": [],
   "source": [
    "df = df.drop('id')"
   ]
  },
  {
   "cell_type": "code",
   "execution_count": 29,
   "metadata": {},
   "outputs": [],
   "source": [
    "first_division = df.filter(col('division') == 1)"
   ]
  },
  {
   "cell_type": "code",
   "execution_count": 31,
   "metadata": {},
   "outputs": [],
   "source": [
    "first_division = first_division.withColumn('winner', \\\n",
    "                          when(col('localGoals') > col('visitorGoals'), 1)\\\n",
    "                          .when(col('localGoals') < col('visitorGoals'), 2)\\\n",
    "                          .otherwise(3))"
   ]
  },
  {
   "cell_type": "code",
   "execution_count": 54,
   "metadata": {},
   "outputs": [
    {
     "data": {
      "text/plain": [
       "[Row(season='1984-85', total_games=306, home_wins=129, home_win_pct=0.4215686274509804),\n",
       " Row(season='2005-06', total_games=380, home_wins=162, home_win_pct=0.4263157894736842),\n",
       " Row(season='2014-15', total_games=380, home_wins=171, home_win_pct=0.45),\n",
       " Row(season='2006-07', total_games=380, home_wins=172, home_win_pct=0.45263157894736844),\n",
       " Row(season='2003-04', total_games=380, home_wins=172, home_win_pct=0.45263157894736844),\n",
       " Row(season='1995-96', total_games=462, home_wins=211, home_win_pct=0.45670995670995673),\n",
       " Row(season='1988-89', total_games=380, home_wins=175, home_win_pct=0.4605263157894737),\n",
       " Row(season='2002-03', total_games=380, home_wins=176, home_win_pct=0.4631578947368421),\n",
       " Row(season='2017-18', total_games=380, home_wins=179, home_win_pct=0.4710526315789474),\n",
       " Row(season='2013-14', total_games=380, home_wins=179, home_win_pct=0.4710526315789474),\n",
       " Row(season='1996-97', total_games=462, home_wins=220, home_win_pct=0.47619047619047616),\n",
       " Row(season='1994-95', total_games=380, home_wins=181, home_win_pct=0.4763157894736842),\n",
       " Row(season='2016-17', total_games=380, home_wins=181, home_win_pct=0.4763157894736842),\n",
       " Row(season='1999-00', total_games=380, home_wins=182, home_win_pct=0.4789473684210526),\n",
       " Row(season='1992-93', total_games=380, home_wins=182, home_win_pct=0.4789473684210526),\n",
       " Row(season='2007-08', total_games=380, home_wins=182, home_win_pct=0.4789473684210526),\n",
       " Row(season='1997-98', total_games=380, home_wins=182, home_win_pct=0.4789473684210526),\n",
       " Row(season='2015-16', total_games=380, home_wins=183, home_win_pct=0.48157894736842105),\n",
       " Row(season='2008-09', total_games=380, home_wins=184, home_win_pct=0.4842105263157895),\n",
       " Row(season='2001-02', total_games=380, home_wins=186, home_win_pct=0.48947368421052634),\n",
       " Row(season='1993-94', total_games=380, home_wins=188, home_win_pct=0.49473684210526314),\n",
       " Row(season='2011-12', total_games=380, home_wins=188, home_win_pct=0.49473684210526314),\n",
       " Row(season='2012-13', total_games=380, home_wins=189, home_win_pct=0.49736842105263157),\n",
       " Row(season='1998-99', total_games=380, home_wins=191, home_win_pct=0.5026315789473684),\n",
       " Row(season='2004-05', total_games=380, home_wins=192, home_win_pct=0.5052631578947369),\n",
       " Row(season='2009-10', total_games=380, home_wins=194, home_win_pct=0.5105263157894737),\n",
       " Row(season='2010-11', total_games=380, home_wins=197, home_win_pct=0.5184210526315789),\n",
       " Row(season='1987-88', total_games=380, home_wins=197, home_win_pct=0.5184210526315789),\n",
       " Row(season='1990-91', total_games=380, home_wins=198, home_win_pct=0.5210526315789473),\n",
       " Row(season='1989-90', total_games=380, home_wins=198, home_win_pct=0.5210526315789473),\n",
       " Row(season='2000-01', total_games=380, home_wins=199, home_win_pct=0.5236842105263158),\n",
       " Row(season='1985-86', total_games=306, home_wins=167, home_win_pct=0.545751633986928),\n",
       " Row(season='1991-92', total_games=380, home_wins=208, home_win_pct=0.5473684210526316),\n",
       " Row(season='1983-84', total_games=306, home_wins=169, home_win_pct=0.5522875816993464),\n",
       " Row(season='1972-73', total_games=306, home_wins=172, home_win_pct=0.5620915032679739),\n",
       " Row(season='1980-81', total_games=306, home_wins=173, home_win_pct=0.565359477124183),\n",
       " Row(season='1986-87', total_games=396, home_wins=229, home_win_pct=0.5782828282828283),\n",
       " Row(season='1971-72', total_games=306, home_wins=177, home_win_pct=0.5784313725490197),\n",
       " Row(season='1979-80', total_games=305, home_wins=177, home_win_pct=0.580327868852459),\n",
       " Row(season='1970-71', total_games=240, home_wins=140, home_win_pct=0.5833333333333334),\n",
       " Row(season='1982-83', total_games=306, home_wins=179, home_win_pct=0.5849673202614379),\n",
       " Row(season='1978-79', total_games=306, home_wins=190, home_win_pct=0.6209150326797386),\n",
       " Row(season='1976-77', total_games=306, home_wins=192, home_win_pct=0.6274509803921569),\n",
       " Row(season='1981-82', total_games=306, home_wins=195, home_win_pct=0.6372549019607843),\n",
       " Row(season='1974-75', total_games=306, home_wins=195, home_win_pct=0.6372549019607843),\n",
       " Row(season='1973-74', total_games=306, home_wins=197, home_win_pct=0.6437908496732027),\n",
       " Row(season='1975-76', total_games=306, home_wins=200, home_win_pct=0.6535947712418301),\n",
       " Row(season='1977-78', total_games=306, home_wins=200, home_win_pct=0.6535947712418301)]"
      ]
     },
     "execution_count": 54,
     "metadata": {},
     "output_type": "execute_result"
    }
   ],
   "source": [
    "season_count = first_division.groupBy('season').count()\n",
    "season_home_wins = first_division.filter(col('winner') == 1).groupBy('season').count()\n",
    "season_home_avg =  season_count.alias('sc')\\\n",
    "                                .join(season_home_wins.alias('sh'), col('sc.season') == col('sh.season'))\\\n",
    "                                .select([col('sc.season'), col('sc.count').alias('total_games'), col('sh.count').alias('home_wins')])\n",
    "season_home_avg = season_home_avg.withColumn('home_win_pct', col('home_wins')/col('total_games'))\n",
    "season_home_avg.sort('home_win_pct').collect()"
   ]
  }
 ],
 "metadata": {
  "kernelspec": {
   "display_name": "Python 3",
   "language": "python",
   "name": "python3"
  },
  "language_info": {
   "codemirror_mode": {
    "name": "ipython",
    "version": 3
   },
   "file_extension": ".py",
   "mimetype": "text/x-python",
   "name": "python",
   "nbconvert_exporter": "python",
   "pygments_lexer": "ipython3",
   "version": "3.7.3"
  }
 },
 "nbformat": 4,
 "nbformat_minor": 4
}
