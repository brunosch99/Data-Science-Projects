{
 "cells": [
  {
   "cell_type": "markdown",
   "metadata": {},
   "source": [
    "# Exploring Hacker News Posts"
   ]
  },
  {
   "cell_type": "markdown",
   "metadata": {},
   "source": [
    "This notebook is a challenge from dataquest.io"
   ]
  },
  {
   "cell_type": "markdown",
   "metadata": {},
   "source": [
    "Problem description:\n",
    "\n",
    "In the dataset there are informations about posts from \"Hacker News\" website. There are two popular post type, question posts that start with \"Ask HN\" and projects posts that start with \"Show HN\". We need to know which of the types receive in average more comments, and at what time the most popular type receives more comments."
   ]
  },
  {
   "cell_type": "markdown",
   "metadata": {},
   "source": [
    "Dataset:\n",
    "\n",
    "-id: The unique identifier from Hacker News for the post\\\n",
    "-title: The title of the post\\\n",
    "-url: The URL that the posts links to, if it the post has a URL\\\n",
    "-num_points: The number of points the post acquired, calculated as the total number of upvotes minus the total number of downvotes\\\n",
    "-num_comments: The number of comments that were made on the post\\\n",
    "-author: The username of the person who submitted the post\\\n",
    "-created_at: The date and time at which the post was submitted\\"
   ]
  },
  {
   "cell_type": "code",
   "execution_count": 36,
   "metadata": {},
   "outputs": [],
   "source": [
    "from csv import reader\n",
    "import datetime as dt\n",
    "\n",
    "hn = list(reader(open(\"hacker_news.csv\")))\n",
    "headers = hn[0]\n",
    "hn = hn[1:]"
   ]
  },
  {
   "cell_type": "markdown",
   "metadata": {},
   "source": [
    "Creating lists that will store the posts based on its title"
   ]
  },
  {
   "cell_type": "code",
   "execution_count": 37,
   "metadata": {},
   "outputs": [],
   "source": [
    "ask_posts = []\n",
    "show_posts = []\n",
    "other_posts = []\n",
    "\n",
    "for row in hn:\n",
    "    title = row[1]\n",
    "    \n",
    "    if title.lower().startswith(\"ask hn\"):\n",
    "        ask_posts.append(row)\n",
    "    elif title.lower().startswith(\"show hn\"):\n",
    "        show_posts.append(row)\n",
    "    else:\n",
    "        other_posts.append(row)"
   ]
  },
  {
   "cell_type": "markdown",
   "metadata": {},
   "source": [
    "Function thar receives a list and calculate the total number of comments"
   ]
  },
  {
   "cell_type": "code",
   "execution_count": 38,
   "metadata": {},
   "outputs": [],
   "source": [
    "def count_total_comments(data):\n",
    "    total = 0\n",
    "    for row in data:\n",
    "        total += int(row[4])\n",
    "    return total"
   ]
  },
  {
   "cell_type": "markdown",
   "metadata": {},
   "source": [
    "Is calculated the average of comments for questions and projects posts"
   ]
  },
  {
   "cell_type": "code",
   "execution_count": 39,
   "metadata": {},
   "outputs": [
    {
     "name": "stdout",
     "output_type": "stream",
     "text": [
      "Average of comments in ask posts: 14.04\n",
      "Average of comments in show posts: 10.32\n"
     ]
    }
   ],
   "source": [
    "total_ask_comments = count_total_comments(ask_posts)\n",
    "avg_ask_comments = total_ask_comments/len(ask_posts)\n",
    "print(\"Average of comments in ask posts: {0:.2f}\".format(avg_ask_comments))\n",
    "\n",
    "total_show_comments = count_total_comments(show_posts)\n",
    "avg_show_comments = total_show_comments/len(show_posts)\n",
    "print(\"Average of comments in show posts: {0:.2f}\".format(avg_show_comments))"
   ]
  },
  {
   "cell_type": "markdown",
   "metadata": {},
   "source": [
    "Question posts receive more comments in average"
   ]
  },
  {
   "cell_type": "markdown",
   "metadata": {},
   "source": [
    "result_list will storage the hour and the total of comments for question posts"
   ]
  },
  {
   "cell_type": "code",
   "execution_count": 40,
   "metadata": {},
   "outputs": [],
   "source": [
    "result_list = []\n",
    "\n",
    "for row in ask_posts:\n",
    "    result_list.append([row[6], int(row[4])])"
   ]
  },
  {
   "cell_type": "markdown",
   "metadata": {},
   "source": [
    "Two dictionaries are created, one will store the number of posts per hour, the other one will store the number of comments per hour"
   ]
  },
  {
   "cell_type": "code",
   "execution_count": 41,
   "metadata": {},
   "outputs": [],
   "source": [
    "counts_by_hour = {}\n",
    "comments_by_hour = {}\n",
    "\n",
    "for row in result_list:\n",
    "    date = dt.datetime.strptime(row[0], \"%m/%d/%Y %H:%M\")\n",
    "    hour = dt.datetime.strftime(date, \"%H\")\n",
    "    \n",
    "    if hour not in counts_by_hour:\n",
    "        counts_by_hour[hour] = 1\n",
    "        comments_by_hour[hour] = row[1]\n",
    "    else:\n",
    "        counts_by_hour[hour] += 1\n",
    "        comments_by_hour[hour] += row[1]"
   ]
  },
  {
   "cell_type": "markdown",
   "metadata": {},
   "source": [
    "avg_by_hour is a list of lists that each row will contain an hour and the average of comments of that hour"
   ]
  },
  {
   "cell_type": "code",
   "execution_count": 42,
   "metadata": {},
   "outputs": [],
   "source": [
    "avg_by_hour = []\n",
    "\n",
    "for hour, count in counts_by_hour.items():\n",
    "    for hour_total, total in comments_by_hour.items():\n",
    "        if hour == hour_total:\n",
    "            avg_by_hour.append([hour, total/count])"
   ]
  },
  {
   "cell_type": "markdown",
   "metadata": {},
   "source": [
    "The columns of each row are inverted and appended into swap_avg_by_hour\n",
    "<br>\n",
    "swap_avg_by_hour is sorted and the results show that at 15:00 is the hour that question posts receive more comments in average"
   ]
  },
  {
   "cell_type": "code",
   "execution_count": 43,
   "metadata": {},
   "outputs": [
    {
     "name": "stdout",
     "output_type": "stream",
     "text": [
      "15:00: 38.59 average comments per post\n",
      "02:00: 23.81 average comments per post\n",
      "20:00: 21.52 average comments per post\n",
      "16:00: 16.80 average comments per post\n",
      "21:00: 16.01 average comments per post\n"
     ]
    }
   ],
   "source": [
    "swap_avg_by_hour = []\n",
    "\n",
    "for row in avg_by_hour:\n",
    "    swap_avg_by_hour.append([row[1], row[0]])\n",
    "    \n",
    "sorted_swap = sorted(swap_avg_by_hour, reverse=True)\n",
    "\n",
    "for row in sorted_swap[:5]:\n",
    "    print(\"{0}:00: {1:.2f} average comments per post\".format(row[1], row[0]))"
   ]
  }
 ],
 "metadata": {
  "kernelspec": {
   "display_name": "Python 3",
   "language": "python",
   "name": "python3"
  },
  "language_info": {
   "codemirror_mode": {
    "name": "ipython",
    "version": 3
   },
   "file_extension": ".py",
   "mimetype": "text/x-python",
   "name": "python",
   "nbconvert_exporter": "python",
   "pygments_lexer": "ipython3",
   "version": "3.7.2"
  }
 },
 "nbformat": 4,
 "nbformat_minor": 4
}
