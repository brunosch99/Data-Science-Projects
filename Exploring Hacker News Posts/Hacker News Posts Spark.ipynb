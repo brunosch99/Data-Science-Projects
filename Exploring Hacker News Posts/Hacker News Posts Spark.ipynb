{
 "cells": [
  {
   "cell_type": "code",
   "execution_count": 1,
   "metadata": {},
   "outputs": [],
   "source": [
    "from pyspark import SparkContext, SQLContext\n",
    "from pyspark.sql.types import *\n",
    "from pyspark.sql.functions import col, udf, lower, round"
   ]
  },
  {
   "cell_type": "code",
   "execution_count": 2,
   "metadata": {},
   "outputs": [],
   "source": [
    "sc = SparkContext(\"local\", \"First App\")"
   ]
  },
  {
   "cell_type": "code",
   "execution_count": 3,
   "metadata": {},
   "outputs": [],
   "source": [
    "sqlCtx = SQLContext(sc)"
   ]
  },
  {
   "cell_type": "code",
   "execution_count": 4,
   "metadata": {},
   "outputs": [],
   "source": [
    "df = sqlCtx.read.csv(\"/home/jovyan/work/data-science/Exploring Hacker News Posts/hacker_news.csv\", header=True, inferSchema=True, quote='\"', escape='\"')\n",
    "df = df.fillna(0, subset=['num_points', 'num_comments'])"
   ]
  },
  {
   "cell_type": "code",
   "execution_count": 5,
   "metadata": {},
   "outputs": [
    {
     "data": {
      "text/plain": [
       "[('id', 'int'),\n",
       " ('title', 'string'),\n",
       " ('url', 'string'),\n",
       " ('num_points', 'int'),\n",
       " ('num_comments', 'int'),\n",
       " ('author', 'string'),\n",
       " ('created_at', 'string')]"
      ]
     },
     "execution_count": 5,
     "metadata": {},
     "output_type": "execute_result"
    }
   ],
   "source": [
    "df.dtypes"
   ]
  },
  {
   "cell_type": "code",
   "execution_count": 6,
   "metadata": {},
   "outputs": [],
   "source": [
    "df = df.withColumn('title_lower', lower(col('title')))\n",
    "show_posts = df.filter(df.title_lower.startswith('show hn'))\n",
    "ask_posts = df.filter(df.title_lower.startswith('ask hn'))"
   ]
  },
  {
   "cell_type": "code",
   "execution_count": 7,
   "metadata": {},
   "outputs": [
    {
     "name": "stdout",
     "output_type": "stream",
     "text": [
      "Average of comments in show posts: 10.32\n",
      "Average of comments in ask posts: 14.04\n"
     ]
    }
   ],
   "source": [
    "total_show_comments = show_posts.groupBy().sum().collect()[0][2]\n",
    "total_ask_comments = ask_posts.groupBy().sum().collect()[0][2]\n",
    "avg_show_comments = total_show_comments/show_posts.count()\n",
    "avg_ask_comments = total_ask_comments/ask_posts.count()\n",
    "\n",
    "print(\"Average of comments in show posts: %.2f\" % avg_show_comments)\n",
    "print(\"Average of comments in ask posts: %.2f\" % avg_ask_comments)"
   ]
  },
  {
   "cell_type": "code",
   "execution_count": 8,
   "metadata": {},
   "outputs": [],
   "source": [
    "get_hour = udf(lambda x: x.split(\" \")[1].split(':')[0] + \":00\", StringType())\n",
    "ask_posts = ask_posts.withColumn('hour', get_hour('created_at'))"
   ]
  },
  {
   "cell_type": "code",
   "execution_count": 9,
   "metadata": {},
   "outputs": [
    {
     "data": {
      "text/html": [
       "<div>\n",
       "<style scoped>\n",
       "    .dataframe tbody tr th:only-of-type {\n",
       "        vertical-align: middle;\n",
       "    }\n",
       "\n",
       "    .dataframe tbody tr th {\n",
       "        vertical-align: top;\n",
       "    }\n",
       "\n",
       "    .dataframe thead th {\n",
       "        text-align: right;\n",
       "    }\n",
       "</style>\n",
       "<table border=\"1\" class=\"dataframe\">\n",
       "  <thead>\n",
       "    <tr style=\"text-align: right;\">\n",
       "      <th></th>\n",
       "      <th>hour</th>\n",
       "      <th>avg_num_comments</th>\n",
       "    </tr>\n",
       "  </thead>\n",
       "  <tbody>\n",
       "    <tr>\n",
       "      <td>0</td>\n",
       "      <td>15:00</td>\n",
       "      <td>38.59</td>\n",
       "    </tr>\n",
       "    <tr>\n",
       "      <td>1</td>\n",
       "      <td>2:00</td>\n",
       "      <td>23.81</td>\n",
       "    </tr>\n",
       "    <tr>\n",
       "      <td>2</td>\n",
       "      <td>20:00</td>\n",
       "      <td>21.53</td>\n",
       "    </tr>\n",
       "    <tr>\n",
       "      <td>3</td>\n",
       "      <td>16:00</td>\n",
       "      <td>16.80</td>\n",
       "    </tr>\n",
       "    <tr>\n",
       "      <td>4</td>\n",
       "      <td>21:00</td>\n",
       "      <td>16.01</td>\n",
       "    </tr>\n",
       "  </tbody>\n",
       "</table>\n",
       "</div>"
      ],
      "text/plain": [
       "    hour  avg_num_comments\n",
       "0  15:00             38.59\n",
       "1   2:00             23.81\n",
       "2  20:00             21.53\n",
       "3  16:00             16.80\n",
       "4  21:00             16.01"
      ]
     },
     "execution_count": 9,
     "metadata": {},
     "output_type": "execute_result"
    }
   ],
   "source": [
    "ask_posts.groupBy(\"hour\")\\\n",
    "        .avg('num_comments')\\\n",
    "        .sort('avg(num_comments)', ascending=False) \\\n",
    "        .withColumn('avg_num_comments', round('avg(num_comments)',2))\\\n",
    "        .drop('avg(num_comments)')\\\n",
    "        .toPandas()[:5]"
   ]
  }
 ],
 "metadata": {
  "kernelspec": {
   "display_name": "Python 3",
   "language": "python",
   "name": "python3"
  },
  "language_info": {
   "codemirror_mode": {
    "name": "ipython",
    "version": 3
   },
   "file_extension": ".py",
   "mimetype": "text/x-python",
   "name": "python",
   "nbconvert_exporter": "python",
   "pygments_lexer": "ipython3",
   "version": "3.7.3"
  }
 },
 "nbformat": 4,
 "nbformat_minor": 4
}
